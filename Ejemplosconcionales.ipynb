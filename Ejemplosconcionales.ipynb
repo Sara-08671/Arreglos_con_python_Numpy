{
  "nbformat": 4,
  "nbformat_minor": 0,
  "metadata": {
    "colab": {
      "provenance": [],
      "toc_visible": true,
      "authorship_tag": "ABX9TyPaNPTDR5Gi2EnnLwQGNfJ/",
      "include_colab_link": true
    },
    "kernelspec": {
      "name": "python3",
      "display_name": "Python 3"
    },
    "language_info": {
      "name": "python"
    }
  },
  "cells": [
    {
      "cell_type": "markdown",
      "metadata": {
        "id": "view-in-github",
        "colab_type": "text"
      },
      "source": [
        "<a href=\"https://colab.research.google.com/github/Sara-08671/Arreglos_con_python_Numpy/blob/main/Ejemplosconcionales.ipynb\" target=\"_parent\"><img src=\"https://colab.research.google.com/assets/colab-badge.svg\" alt=\"Open In Colab\"/></a>"
      ]
    },
    {
      "cell_type": "code",
      "execution_count": null,
      "metadata": {
        "id": "fYS3fPMbCz31"
      },
      "outputs": [],
      "source": [
        "import numpy as np\n",
        "# aleas para recortar el nombre de la libreria para eso es un alias\n",
        "# numpy es una libreria para trabajar con arreglos, matrices y vectores\n",
        "# primer ejemplo de uso de numpy con vectores\n",
        "\n",
        "#creamos un vector de 10 elemntos\n",
        "vector = np.array([1, 2, 3, 4, 5, 6, 7, 8, 9, 10])\n",
        "# mostramos el vector\n",
        "print(\"Vector original:\", vector)"
      ]
    }
  ]
}